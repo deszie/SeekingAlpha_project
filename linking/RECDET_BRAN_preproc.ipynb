{
 "cells": [
  {
   "cell_type": "code",
   "execution_count": 1,
   "metadata": {},
   "outputs": [],
   "source": [
    "import pandas as pd\n",
    "import os\n",
    "import numpy as np\n",
    "import heapq\n",
    "import editdistance as Levdist\n",
    "from pyxdameraulevenshtein import damerau_levenshtein_distance as DLevdist\n",
    "from pyxdameraulevenshtein import normalized_damerau_levenshtein_distance as NDLevdist"
   ]
  },
  {
   "cell_type": "code",
   "execution_count": 2,
   "metadata": {},
   "outputs": [],
   "source": [
    "# actdats - start date\n",
    "# cname - company name\n",
    "# analyst - analyst\n",
    "# baname - analyst\n",
    "# estimid - bank"
   ]
  },
  {
   "cell_type": "code",
   "execution_count": 3,
   "metadata": {},
   "outputs": [],
   "source": [
    "recdet = pd.read_stata('../data/recdet.dta')\n",
    "bran = pd.read_stata('../data/bran.dta')"
   ]
  },
  {
   "cell_type": "code",
   "execution_count": 4,
   "metadata": {},
   "outputs": [],
   "source": [
    "merged = pd.merge(recdet,\n",
    "                 bran,\n",
    "                 how='outer',\n",
    "                 left_on=['amaskcd'],\n",
    "                 right_on=['bacode'])"
   ]
  },
  {
   "cell_type": "code",
   "execution_count": 5,
   "metadata": {},
   "outputs": [
    {
     "data": {
      "text/html": [
       "<div>\n",
       "<style scoped>\n",
       "    .dataframe tbody tr th:only-of-type {\n",
       "        vertical-align: middle;\n",
       "    }\n",
       "\n",
       "    .dataframe tbody tr th {\n",
       "        vertical-align: top;\n",
       "    }\n",
       "\n",
       "    .dataframe thead th {\n",
       "        text-align: right;\n",
       "    }\n",
       "</style>\n",
       "<table border=\"1\" class=\"dataframe\">\n",
       "  <thead>\n",
       "    <tr style=\"text-align: right;\">\n",
       "      <th></th>\n",
       "      <th>ticker</th>\n",
       "      <th>cusip</th>\n",
       "      <th>cname</th>\n",
       "      <th>oftic</th>\n",
       "      <th>actdats</th>\n",
       "      <th>estimid</th>\n",
       "      <th>analyst</th>\n",
       "      <th>ereccd</th>\n",
       "      <th>etext</th>\n",
       "      <th>ireccd</th>\n",
       "      <th>...</th>\n",
       "      <th>acttims</th>\n",
       "      <th>revdats</th>\n",
       "      <th>revtims</th>\n",
       "      <th>anndats</th>\n",
       "      <th>anntims</th>\n",
       "      <th>baindi</th>\n",
       "      <th>bacode</th>\n",
       "      <th>baname</th>\n",
       "      <th>baid</th>\n",
       "      <th>usfirm_y</th>\n",
       "    </tr>\n",
       "  </thead>\n",
       "  <tbody>\n",
       "    <tr>\n",
       "      <th>0</th>\n",
       "      <td>0000</td>\n",
       "      <td>87482X10</td>\n",
       "      <td>TALMER BANCORP</td>\n",
       "      <td>TLMR</td>\n",
       "      <td>2014-03-10</td>\n",
       "      <td>RBCDOMIN</td>\n",
       "      <td>ARFSTROM      J</td>\n",
       "      <td>2</td>\n",
       "      <td>OUTPERFORM</td>\n",
       "      <td>2</td>\n",
       "      <td>...</td>\n",
       "      <td>08:54:03</td>\n",
       "      <td>2016-01-26</td>\n",
       "      <td>09:35:52</td>\n",
       "      <td>2014-03-10</td>\n",
       "      <td>00:20:00</td>\n",
       "      <td>A</td>\n",
       "      <td>71182.0</td>\n",
       "      <td>ARFSTROM           J</td>\n",
       "      <td></td>\n",
       "      <td>1.0</td>\n",
       "    </tr>\n",
       "    <tr>\n",
       "      <th>1</th>\n",
       "      <td>0000</td>\n",
       "      <td>87482X10</td>\n",
       "      <td>TALMER BANCORP</td>\n",
       "      <td>TLMR</td>\n",
       "      <td>2016-01-26</td>\n",
       "      <td>RBCDOMIN</td>\n",
       "      <td>ARFSTROM      J</td>\n",
       "      <td>3</td>\n",
       "      <td>SECTOR PERFORM</td>\n",
       "      <td>3</td>\n",
       "      <td>...</td>\n",
       "      <td>21:57:09</td>\n",
       "      <td>2016-04-28</td>\n",
       "      <td>10:48:13</td>\n",
       "      <td>2016-01-26</td>\n",
       "      <td>21:44:00</td>\n",
       "      <td>A</td>\n",
       "      <td>71182.0</td>\n",
       "      <td>ARFSTROM           J</td>\n",
       "      <td></td>\n",
       "      <td>1.0</td>\n",
       "    </tr>\n",
       "    <tr>\n",
       "      <th>2</th>\n",
       "      <td>0097</td>\n",
       "      <td>39260X10</td>\n",
       "      <td>GREEN BANCORP</td>\n",
       "      <td>GNBC</td>\n",
       "      <td>2014-09-02</td>\n",
       "      <td>RBCDOMIN</td>\n",
       "      <td>ARFSTROM      J</td>\n",
       "      <td>2</td>\n",
       "      <td>OUTPERFORM</td>\n",
       "      <td>2</td>\n",
       "      <td>...</td>\n",
       "      <td>08:13:22</td>\n",
       "      <td>2016-07-28</td>\n",
       "      <td>21:40:22</td>\n",
       "      <td>2014-09-02</td>\n",
       "      <td>07:50:00</td>\n",
       "      <td>A</td>\n",
       "      <td>71182.0</td>\n",
       "      <td>ARFSTROM           J</td>\n",
       "      <td></td>\n",
       "      <td>1.0</td>\n",
       "    </tr>\n",
       "    <tr>\n",
       "      <th>3</th>\n",
       "      <td>AINV</td>\n",
       "      <td>03761U10</td>\n",
       "      <td>APOLLO INVESTMEN</td>\n",
       "      <td>AINV</td>\n",
       "      <td>2009-08-08</td>\n",
       "      <td>RBCDOMIN</td>\n",
       "      <td>ARFSTROM      J</td>\n",
       "      <td>2</td>\n",
       "      <td>OUTPERFORM</td>\n",
       "      <td>2</td>\n",
       "      <td>...</td>\n",
       "      <td>18:58:54</td>\n",
       "      <td>2017-05-18</td>\n",
       "      <td>09:22:18</td>\n",
       "      <td>2009-08-07</td>\n",
       "      <td>06:53:00</td>\n",
       "      <td>A</td>\n",
       "      <td>71182.0</td>\n",
       "      <td>ARFSTROM           J</td>\n",
       "      <td></td>\n",
       "      <td>1.0</td>\n",
       "    </tr>\n",
       "    <tr>\n",
       "      <th>4</th>\n",
       "      <td>ALLE</td>\n",
       "      <td>01747610</td>\n",
       "      <td>ALLEGIANT BANC</td>\n",
       "      <td>ALLE</td>\n",
       "      <td>2002-01-14</td>\n",
       "      <td>RBCDOMIN</td>\n",
       "      <td>ARFSTROM      J</td>\n",
       "      <td>2</td>\n",
       "      <td>OUTPERFORM</td>\n",
       "      <td>2</td>\n",
       "      <td>...</td>\n",
       "      <td>16:22:51</td>\n",
       "      <td>2003-10-27</td>\n",
       "      <td>15:08:44</td>\n",
       "      <td>2002-01-14</td>\n",
       "      <td>16:16:21</td>\n",
       "      <td>A</td>\n",
       "      <td>71182.0</td>\n",
       "      <td>ARFSTROM           J</td>\n",
       "      <td></td>\n",
       "      <td>1.0</td>\n",
       "    </tr>\n",
       "  </tbody>\n",
       "</table>\n",
       "<p>5 rows × 24 columns</p>\n",
       "</div>"
      ],
      "text/plain": [
       "  ticker     cusip             cname oftic    actdats   estimid  \\\n",
       "0   0000  87482X10    TALMER BANCORP  TLMR 2014-03-10  RBCDOMIN   \n",
       "1   0000  87482X10    TALMER BANCORP  TLMR 2016-01-26  RBCDOMIN   \n",
       "2   0097  39260X10     GREEN BANCORP  GNBC 2014-09-02  RBCDOMIN   \n",
       "3   AINV  03761U10  APOLLO INVESTMEN  AINV 2009-08-08  RBCDOMIN   \n",
       "4   ALLE  01747610    ALLEGIANT BANC  ALLE 2002-01-14  RBCDOMIN   \n",
       "\n",
       "           analyst ereccd           etext ireccd   ...      acttims  \\\n",
       "0  ARFSTROM      J      2      OUTPERFORM      2   ...     08:54:03   \n",
       "1  ARFSTROM      J      3  SECTOR PERFORM      3   ...     21:57:09   \n",
       "2  ARFSTROM      J      2      OUTPERFORM      2   ...     08:13:22   \n",
       "3  ARFSTROM      J      2      OUTPERFORM      2   ...     18:58:54   \n",
       "4  ARFSTROM      J      2      OUTPERFORM      2   ...     16:22:51   \n",
       "\n",
       "     revdats   revtims    anndats   anntims baindi   bacode  \\\n",
       "0 2016-01-26  09:35:52 2014-03-10  00:20:00      A  71182.0   \n",
       "1 2016-04-28  10:48:13 2016-01-26  21:44:00      A  71182.0   \n",
       "2 2016-07-28  21:40:22 2014-09-02  07:50:00      A  71182.0   \n",
       "3 2017-05-18  09:22:18 2009-08-07  06:53:00      A  71182.0   \n",
       "4 2003-10-27  15:08:44 2002-01-14  16:16:21      A  71182.0   \n",
       "\n",
       "                                     baname baid usfirm_y  \n",
       "0  ARFSTROM           J                               1.0  \n",
       "1  ARFSTROM           J                               1.0  \n",
       "2  ARFSTROM           J                               1.0  \n",
       "3  ARFSTROM           J                               1.0  \n",
       "4  ARFSTROM           J                               1.0  \n",
       "\n",
       "[5 rows x 24 columns]"
      ]
     },
     "execution_count": 5,
     "metadata": {},
     "output_type": "execute_result"
    }
   ],
   "source": [
    "merged.head()"
   ]
  },
  {
   "cell_type": "code",
   "execution_count": 6,
   "metadata": {},
   "outputs": [],
   "source": [
    "def sort_by_levenstein(list1, list2, n_sim_cols, l1_name='list1', l2_name='list2'):\n",
    "    if len(list1)-len(list2)>=0:\n",
    "        listb = list1\n",
    "        listm = list2\n",
    "        cols = [l1_name]+[l2_name+'_'+str(nsim+1) for nsim in range(n_sim_cols)]\n",
    "    else:\n",
    "        listb = list2\n",
    "        listm = list1\n",
    "        cols = [l2_name]+[l1_name+'_'+str(nsim+1) for nsim in range(n_sim_cols)]\n",
    "    \n",
    "    result = []\n",
    "    similar = []\n",
    "    for l1 in range(len(listb)):\n",
    "#         if len(listm)!=1:\n",
    "        cur_lev_dist = []\n",
    "        for l2 in range(len(listm)):\n",
    "            w_distance = DLevdist(listb[l1], listm[l2])\n",
    "            cur_lev_dist.append(w_distance)\n",
    "            if w_distance==0:\n",
    "                similar.append([listb[l1], listm[l2]])\n",
    "\n",
    "        min_indexes = heapq.nsmallest(n_sim_cols, range(len(cur_lev_dist)), cur_lev_dist.__getitem__)\n",
    "        result.append([listb[l1]]+[listm[min_indexes[nsim]] for nsim in range(n_sim_cols)])\n",
    "#             listm.pop(min_indexes[0])\n",
    "#         else:\n",
    "#             result.append([listb[l1], np.nan, np.nan])\n",
    "    return pd.DataFrame(result, columns=cols), pd.DataFrame(similar, columns=cols[:2])"
   ]
  },
  {
   "cell_type": "code",
   "execution_count": 7,
   "metadata": {},
   "outputs": [],
   "source": [
    "def preproc_names_list(l):\n",
    "    l = list(map(lambda x: x.replace(' ', ''), l))\n",
    "    l = list(map(lambda x: x.replace('.', ''), l))\n",
    "    l = list(map(lambda x: x.replace(',', ''), l))\n",
    "    l = list(map(lambda x: x.replace('&', ''), l))\n",
    "    l = list(map(lambda x: x.replace('-', ''), l))\n",
    "    l = list(map(lambda x: x.replace(')', ''), l))\n",
    "    l = list(map(lambda x: x.replace('(', ''), l))\n",
    "    l = list(map(lambda x: x.replace(']', ''), l))\n",
    "    l = list(map(lambda x: x.replace('[', ''), l))\n",
    "    l = list(map(lambda x: x.replace('/', ''), l))\n",
    "    l = list(map(lambda x: x.replace(':', ''), l))\n",
    "    l = list(map(lambda x: x.replace(';', ''), l))\n",
    "    l = list(map(lambda x: x.replace('$', '').lower(), l))\n",
    "    l = list(map(lambda x: x.replace('company', ''), l))\n",
    "    l = list(map(lambda x: x.replace('research', ''), l))\n",
    "    if 'no_company_found' in l:\n",
    "        l.remove('no_company_found')\n",
    "    if '' in l:\n",
    "        l.remove('')\n",
    "    return pd.unique(l).tolist()"
   ]
  },
  {
   "cell_type": "code",
   "execution_count": 8,
   "metadata": {},
   "outputs": [],
   "source": [
    "recdet_banks = pd.unique(merged['estimid'].dropna().tolist())"
   ]
  },
  {
   "cell_type": "markdown",
   "metadata": {},
   "source": [
    "---"
   ]
  },
  {
   "cell_type": "code",
   "execution_count": 17,
   "metadata": {},
   "outputs": [],
   "source": [
    "files = os.listdir(\"../data/res_tables\")"
   ]
  },
  {
   "cell_type": "code",
   "execution_count": 24,
   "metadata": {},
   "outputs": [],
   "source": [
    "b_list = []\n",
    "for i in range(len(files)):\n",
    "    df = pd.read_csv(\"../data/res_tables/\"+files[i])\n",
    "    b_list += pd.unique(df[\"Analyst_bank\"]).tolist()"
   ]
  },
  {
   "cell_type": "code",
   "execution_count": 29,
   "metadata": {},
   "outputs": [
    {
     "data": {
      "text/plain": [
       "3089"
      ]
     },
     "execution_count": 29,
     "metadata": {},
     "output_type": "execute_result"
    }
   ],
   "source": [
    "len(pd.unique(preproc_names_list(b_list)))"
   ]
  },
  {
   "cell_type": "code",
   "execution_count": null,
   "metadata": {},
   "outputs": [],
   "source": []
  },
  {
   "cell_type": "code",
   "execution_count": null,
   "metadata": {},
   "outputs": [],
   "source": []
  },
  {
   "cell_type": "code",
   "execution_count": null,
   "metadata": {},
   "outputs": [],
   "source": []
  },
  {
   "cell_type": "code",
   "execution_count": null,
   "metadata": {},
   "outputs": [],
   "source": []
  },
  {
   "cell_type": "code",
   "execution_count": null,
   "metadata": {},
   "outputs": [],
   "source": []
  },
  {
   "cell_type": "code",
   "execution_count": null,
   "metadata": {},
   "outputs": [],
   "source": []
  },
  {
   "cell_type": "code",
   "execution_count": null,
   "metadata": {},
   "outputs": [],
   "source": []
  },
  {
   "cell_type": "code",
   "execution_count": null,
   "metadata": {},
   "outputs": [],
   "source": []
  },
  {
   "cell_type": "code",
   "execution_count": 10,
   "metadata": {
    "collapsed": true
   },
   "outputs": [],
   "source": [
    "sa_banks = "
   ]
  },
  {
   "cell_type": "code",
   "execution_count": null,
   "metadata": {},
   "outputs": [],
   "source": [
    "sa_banks = preproc_names_list(sa_banks)"
   ]
  },
  {
   "cell_type": "code",
   "execution_count": null,
   "metadata": {},
   "outputs": [],
   "source": []
  },
  {
   "cell_type": "code",
   "execution_count": null,
   "metadata": {},
   "outputs": [],
   "source": []
  },
  {
   "cell_type": "code",
   "execution_count": null,
   "metadata": {},
   "outputs": [],
   "source": []
  },
  {
   "cell_type": "code",
   "execution_count": null,
   "metadata": {},
   "outputs": [],
   "source": []
  },
  {
   "cell_type": "code",
   "execution_count": null,
   "metadata": {},
   "outputs": [],
   "source": []
  },
  {
   "cell_type": "code",
   "execution_count": null,
   "metadata": {},
   "outputs": [],
   "source": []
  },
  {
   "cell_type": "code",
   "execution_count": null,
   "metadata": {},
   "outputs": [],
   "source": []
  },
  {
   "cell_type": "code",
   "execution_count": null,
   "metadata": {},
   "outputs": [],
   "source": []
  },
  {
   "cell_type": "code",
   "execution_count": null,
   "metadata": {},
   "outputs": [],
   "source": []
  },
  {
   "cell_type": "markdown",
   "metadata": {},
   "source": [
    "---"
   ]
  },
  {
   "cell_type": "code",
   "execution_count": 11,
   "metadata": {
    "collapsed": true
   },
   "outputs": [],
   "source": [
    "recdet_banks = preproc_names_list(recdet_banks)"
   ]
  },
  {
   "cell_type": "code",
   "execution_count": 94,
   "metadata": {
    "collapsed": true
   },
   "outputs": [],
   "source": [
    "res, similar = sort_by_levenstein(recdet_banks, sa_banks, 10, \"RECDET\", \"SA\")"
   ]
  },
  {
   "cell_type": "code",
   "execution_count": 95,
   "metadata": {},
   "outputs": [
    {
     "data": {
      "text/plain": [
       "(3089, 82)"
      ]
     },
     "execution_count": 95,
     "metadata": {},
     "output_type": "execute_result"
    }
   ],
   "source": [
    "len(res), len(similar)"
   ]
  },
  {
   "cell_type": "code",
   "execution_count": 96,
   "metadata": {},
   "outputs": [
    {
     "data": {
      "text/html": [
       "<div>\n",
       "<style>\n",
       "    .dataframe thead tr:only-child th {\n",
       "        text-align: right;\n",
       "    }\n",
       "\n",
       "    .dataframe thead th {\n",
       "        text-align: left;\n",
       "    }\n",
       "\n",
       "    .dataframe tbody tr th {\n",
       "        vertical-align: top;\n",
       "    }\n",
       "</style>\n",
       "<table border=\"1\" class=\"dataframe\">\n",
       "  <thead>\n",
       "    <tr style=\"text-align: right;\">\n",
       "      <th></th>\n",
       "      <th>SA</th>\n",
       "      <th>RECDET_1</th>\n",
       "      <th>RECDET_2</th>\n",
       "      <th>RECDET_3</th>\n",
       "      <th>RECDET_4</th>\n",
       "      <th>RECDET_5</th>\n",
       "      <th>RECDET_6</th>\n",
       "      <th>RECDET_7</th>\n",
       "      <th>RECDET_8</th>\n",
       "      <th>RECDET_9</th>\n",
       "      <th>RECDET_10</th>\n",
       "    </tr>\n",
       "  </thead>\n",
       "  <tbody>\n",
       "    <tr>\n",
       "      <th>0</th>\n",
       "      <td>no__found</td>\n",
       "      <td>woodgund</td>\n",
       "      <td>sogould</td>\n",
       "      <td>raymond</td>\n",
       "      <td>northlan</td>\n",
       "      <td>nomuraus</td>\n",
       "      <td>jolson</td>\n",
       "      <td>yorkton</td>\n",
       "      <td>gilford</td>\n",
       "      <td>account</td>\n",
       "      <td>johnson</td>\n",
       "    </tr>\n",
       "    <tr>\n",
       "      <th>1</th>\n",
       "      <td>stephensinc</td>\n",
       "      <td>stephens</td>\n",
       "      <td>stanfin</td>\n",
       "      <td>steichen</td>\n",
       "      <td>sterling</td>\n",
       "      <td>zephirin</td>\n",
       "      <td>greenwic</td>\n",
       "      <td>shenwan</td>\n",
       "      <td>hellenic</td>\n",
       "      <td>sterne</td>\n",
       "      <td>ftenn</td>\n",
       "    </tr>\n",
       "    <tr>\n",
       "      <th>2</th>\n",
       "      <td>ubs</td>\n",
       "      <td>sbs</td>\n",
       "      <td>dbs</td>\n",
       "      <td>ubm</td>\n",
       "      <td>bws</td>\n",
       "      <td>obsa</td>\n",
       "      <td>fgs</td>\n",
       "      <td>rbc</td>\n",
       "      <td>bby</td>\n",
       "      <td>abg</td>\n",
       "      <td>gbm</td>\n",
       "    </tr>\n",
       "    <tr>\n",
       "      <th>3</th>\n",
       "      <td>fbrcapitalmarkets</td>\n",
       "      <td>capitalg</td>\n",
       "      <td>freimark</td>\n",
       "      <td>mercpart</td>\n",
       "      <td>greatlke</td>\n",
       "      <td>portales</td>\n",
       "      <td>tormares</td>\n",
       "      <td>bgcpart</td>\n",
       "      <td>tmcapita</td>\n",
       "      <td>broadmrk</td>\n",
       "      <td>friedman</td>\n",
       "    </tr>\n",
       "    <tr>\n",
       "      <th>4</th>\n",
       "      <td>dadavidson</td>\n",
       "      <td>davidson</td>\n",
       "      <td>dawson</td>\n",
       "      <td>davis</td>\n",
       "      <td>maison</td>\n",
       "      <td>dain</td>\n",
       "      <td>robinson</td>\n",
       "      <td>adams</td>\n",
       "      <td>laidcom</td>\n",
       "      <td>avian</td>\n",
       "      <td>advest</td>\n",
       "    </tr>\n",
       "  </tbody>\n",
       "</table>\n",
       "</div>"
      ],
      "text/plain": [
       "                  SA  RECDET_1  RECDET_2  RECDET_3  RECDET_4  RECDET_5  \\\n",
       "0          no__found  woodgund   sogould   raymond  northlan  nomuraus   \n",
       "1        stephensinc  stephens   stanfin  steichen  sterling  zephirin   \n",
       "2                ubs       sbs       dbs       ubm       bws      obsa   \n",
       "3  fbrcapitalmarkets  capitalg  freimark  mercpart  greatlke  portales   \n",
       "4         dadavidson  davidson    dawson     davis    maison      dain   \n",
       "\n",
       "   RECDET_6 RECDET_7  RECDET_8  RECDET_9 RECDET_10  \n",
       "0    jolson  yorkton   gilford   account   johnson  \n",
       "1  greenwic  shenwan  hellenic    sterne     ftenn  \n",
       "2       fgs      rbc       bby       abg       gbm  \n",
       "3  tormares  bgcpart  tmcapita  broadmrk  friedman  \n",
       "4  robinson    adams   laidcom     avian    advest  "
      ]
     },
     "execution_count": 96,
     "metadata": {},
     "output_type": "execute_result"
    }
   ],
   "source": [
    "res.head()"
   ]
  },
  {
   "cell_type": "code",
   "execution_count": 97,
   "metadata": {},
   "outputs": [
    {
     "data": {
      "text/html": [
       "<div>\n",
       "<style>\n",
       "    .dataframe thead tr:only-child th {\n",
       "        text-align: right;\n",
       "    }\n",
       "\n",
       "    .dataframe thead th {\n",
       "        text-align: left;\n",
       "    }\n",
       "\n",
       "    .dataframe tbody tr th {\n",
       "        vertical-align: top;\n",
       "    }\n",
       "</style>\n",
       "<table border=\"1\" class=\"dataframe\">\n",
       "  <thead>\n",
       "    <tr style=\"text-align: right;\">\n",
       "      <th></th>\n",
       "      <th>SA</th>\n",
       "      <th>RECDET_1</th>\n",
       "    </tr>\n",
       "  </thead>\n",
       "  <tbody>\n",
       "    <tr>\n",
       "      <th>0</th>\n",
       "      <td>smith</td>\n",
       "      <td>smith</td>\n",
       "    </tr>\n",
       "    <tr>\n",
       "      <th>1</th>\n",
       "      <td>stifel</td>\n",
       "      <td>stifel</td>\n",
       "    </tr>\n",
       "    <tr>\n",
       "      <th>2</th>\n",
       "      <td>jpmorgan</td>\n",
       "      <td>jpmorgan</td>\n",
       "    </tr>\n",
       "    <tr>\n",
       "      <th>3</th>\n",
       "      <td>wolfe</td>\n",
       "      <td>wolfe</td>\n",
       "    </tr>\n",
       "    <tr>\n",
       "      <th>4</th>\n",
       "      <td>simmons</td>\n",
       "      <td>simmons</td>\n",
       "    </tr>\n",
       "  </tbody>\n",
       "</table>\n",
       "</div>"
      ],
      "text/plain": [
       "         SA  RECDET_1\n",
       "0     smith     smith\n",
       "1    stifel    stifel\n",
       "2  jpmorgan  jpmorgan\n",
       "3     wolfe     wolfe\n",
       "4   simmons   simmons"
      ]
     },
     "execution_count": 97,
     "metadata": {},
     "output_type": "execute_result"
    }
   ],
   "source": [
    "similar.head()"
   ]
  },
  {
   "cell_type": "code",
   "execution_count": 98,
   "metadata": {
    "collapsed": true
   },
   "outputs": [],
   "source": [
    "res.to_excel('../banks_link.xlsx')"
   ]
  },
  {
   "cell_type": "code",
   "execution_count": 99,
   "metadata": {
    "collapsed": true
   },
   "outputs": [],
   "source": [
    "resSA, similarSA = sort_by_levenstein(sa_banks, sa_banks, 25, \"SA1\", \"SA2\")"
   ]
  },
  {
   "cell_type": "code",
   "execution_count": 100,
   "metadata": {
    "collapsed": true
   },
   "outputs": [],
   "source": [
    "resSA.to_excel('../SA_link.xlsx')"
   ]
  },
  {
   "cell_type": "code",
   "execution_count": 12,
   "metadata": {
    "collapsed": true
   },
   "outputs": [],
   "source": [
    "resRD, similarRD = sort_by_levenstein(recdet_banks, recdet_banks, 25, \"RD1\", \"RD2\")"
   ]
  },
  {
   "cell_type": "code",
   "execution_count": 14,
   "metadata": {
    "collapsed": true
   },
   "outputs": [],
   "source": [
    "resRD.to_excel(\"rd.xlsx\")"
   ]
  },
  {
   "cell_type": "code",
   "execution_count": null,
   "metadata": {
    "collapsed": true
   },
   "outputs": [],
   "source": []
  },
  {
   "cell_type": "code",
   "execution_count": 14,
   "metadata": {},
   "outputs": [],
   "source": [
    "pd.DataFrame(recdet_banks).to_excel(\"recdet_names.xlsx\")"
   ]
  },
  {
   "cell_type": "code",
   "execution_count": null,
   "metadata": {
    "collapsed": true
   },
   "outputs": [],
   "source": []
  },
  {
   "cell_type": "code",
   "execution_count": null,
   "metadata": {
    "collapsed": true
   },
   "outputs": [],
   "source": []
  },
  {
   "cell_type": "code",
   "execution_count": null,
   "metadata": {
    "collapsed": true
   },
   "outputs": [],
   "source": []
  },
  {
   "cell_type": "code",
   "execution_count": null,
   "metadata": {
    "collapsed": true
   },
   "outputs": [],
   "source": []
  },
  {
   "cell_type": "code",
   "execution_count": null,
   "metadata": {
    "collapsed": true
   },
   "outputs": [],
   "source": []
  },
  {
   "cell_type": "code",
   "execution_count": null,
   "metadata": {
    "collapsed": true
   },
   "outputs": [],
   "source": []
  },
  {
   "cell_type": "code",
   "execution_count": null,
   "metadata": {
    "collapsed": true
   },
   "outputs": [],
   "source": []
  },
  {
   "cell_type": "code",
   "execution_count": null,
   "metadata": {
    "collapsed": true
   },
   "outputs": [],
   "source": []
  }
 ],
 "metadata": {
  "anaconda-cloud": {},
  "kernelspec": {
   "display_name": "Python 3",
   "language": "python",
   "name": "python3"
  },
  "language_info": {
   "codemirror_mode": {
    "name": "ipython",
    "version": 3
   },
   "file_extension": ".py",
   "mimetype": "text/x-python",
   "name": "python",
   "nbconvert_exporter": "python",
   "pygments_lexer": "ipython3",
   "version": "3.6.4"
  }
 },
 "nbformat": 4,
 "nbformat_minor": 2
}
