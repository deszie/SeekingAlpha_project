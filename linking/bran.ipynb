{
 "cells": [
  {
   "cell_type": "code",
   "execution_count": 1,
   "metadata": {},
   "outputs": [],
   "source": [
    "import pandas as pd\n",
    "import os\n",
    "import numpy as np\n",
    "import heapq\n",
    "import editdistance as Levdist\n",
    "from pyxdameraulevenshtein import damerau_levenshtein_distance as DLevdist\n",
    "from pyxdameraulevenshtein import normalized_damerau_levenshtein_distance as NDLevdist"
   ]
  },
  {
   "cell_type": "code",
   "execution_count": 2,
   "metadata": {},
   "outputs": [],
   "source": [
    "recdet = pd.read_stata('../data/recdet.dta')\n",
    "bran = pd.read_stata('../data/bran.dta')\n",
    "merged = pd.merge(recdet,\n",
    "                 bran,\n",
    "                 how='outer',\n",
    "                 left_on=['amaskcd'],\n",
    "                 right_on=['bacode'])"
   ]
  },
  {
   "cell_type": "code",
   "execution_count": 3,
   "metadata": {},
   "outputs": [],
   "source": [
    "bran_list = pd.unique(bran.loc[bran[\"baindi\"]==\"B\", \"baname\"]).tolist()"
   ]
  },
  {
   "cell_type": "code",
   "execution_count": 4,
   "metadata": {},
   "outputs": [],
   "source": [
    "def sort_by_levenstein(list1, list2, n_sim_cols, l1_name='list1', l2_name='list2'):\n",
    "#     if len(list1)-len(list2)>=0:\n",
    "    listb = list1\n",
    "    listm = list2\n",
    "    cols = [l1_name]+[l2_name+'_'+str(nsim+1) for nsim in range(n_sim_cols)]\n",
    "#     else:\n",
    "#         listb = list2\n",
    "#         listm = list1\n",
    "#         cols = [l2_name]+[l1_name+'_'+str(nsim+1) for nsim in range(n_sim_cols)]\n",
    "    \n",
    "    result = []\n",
    "    similar = []\n",
    "    for l1 in range(len(listb)):\n",
    "#         if len(listm)!=1:\n",
    "        cur_lev_dist = []\n",
    "        for l2 in range(len(listm)):\n",
    "            w_distance = DLevdist(listb[l1], listm[l2])\n",
    "            cur_lev_dist.append(w_distance)\n",
    "            if w_distance==0:\n",
    "                similar.append([listb[l1], listm[l2]])\n",
    "\n",
    "        min_indexes = heapq.nsmallest(n_sim_cols, range(len(cur_lev_dist)), cur_lev_dist.__getitem__)\n",
    "        result.append([listb[l1]]+[listm[min_indexes[nsim]] for nsim in range(n_sim_cols)])\n",
    "#             listm.pop(min_indexes[0])\n",
    "#         else:\n",
    "#             result.append([listb[l1], np.nan, np.nan])\n",
    "    return pd.DataFrame(result, columns=cols), pd.DataFrame(similar, columns=cols[:2])"
   ]
  },
  {
   "cell_type": "code",
   "execution_count": 5,
   "metadata": {},
   "outputs": [],
   "source": [
    "def preproc_names_list(l):\n",
    "    l = list(map(lambda x: x.replace(' ', ''), l))\n",
    "    l = list(map(lambda x: x.replace('.', ''), l))\n",
    "    l = list(map(lambda x: x.replace(',', ''), l))\n",
    "    l = list(map(lambda x: x.replace('&', ''), l))\n",
    "    l = list(map(lambda x: x.replace('-', ''), l))\n",
    "    l = list(map(lambda x: x.replace(')', ''), l))\n",
    "    l = list(map(lambda x: x.replace('(', ''), l))\n",
    "    l = list(map(lambda x: x.replace(']', ''), l))\n",
    "    l = list(map(lambda x: x.replace('[', ''), l))\n",
    "    l = list(map(lambda x: x.replace('/', ''), l))\n",
    "    l = list(map(lambda x: x.replace(':', ''), l))\n",
    "    l = list(map(lambda x: x.replace(';', ''), l))\n",
    "    l = list(map(lambda x: x.replace('$', '').lower(), l))\n",
    "    l = list(map(lambda x: x.replace('company', ''), l))\n",
    "    l = list(map(lambda x: x.replace('research', ''), l))\n",
    "    if 'no_company_found' in l:\n",
    "        l.remove('no_company_found')\n",
    "    if '' in l:\n",
    "        l.remove('')\n",
    "    return pd.unique(l).tolist()"
   ]
  },
  {
   "cell_type": "code",
   "execution_count": 6,
   "metadata": {},
   "outputs": [],
   "source": [
    "bran_list_proc = preproc_names_list(bran_list)"
   ]
  },
  {
   "cell_type": "code",
   "execution_count": 7,
   "metadata": {},
   "outputs": [],
   "source": [
    "sa_bank = pd.read_excel(\"bank_llinking_10_freq_treshold.xlsx\")"
   ]
  },
  {
   "cell_type": "code",
   "execution_count": 8,
   "metadata": {},
   "outputs": [],
   "source": [
    "sa_bank_list = sa_bank[\"SA\"].tolist()"
   ]
  },
  {
   "cell_type": "code",
   "execution_count": 9,
   "metadata": {},
   "outputs": [
    {
     "data": {
      "text/plain": [
       "(1689, 1926)"
      ]
     },
     "execution_count": 9,
     "metadata": {},
     "output_type": "execute_result"
    }
   ],
   "source": [
    "len(sa_bank_list), len(bran_list_proc)"
   ]
  },
  {
   "cell_type": "code",
   "execution_count": 12,
   "metadata": {},
   "outputs": [],
   "source": [
    "res, similar = sort_by_levenstein(sa_bank_list, bran_list_proc, 10, \"SA\", \"BRAN\")"
   ]
  },
  {
   "cell_type": "code",
   "execution_count": 14,
   "metadata": {
    "scrolled": true
   },
   "outputs": [],
   "source": [
    "res.to_excel(\"bran_linking.xlsx\")"
   ]
  },
  {
   "cell_type": "code",
   "execution_count": null,
   "metadata": {},
   "outputs": [],
   "source": []
  },
  {
   "cell_type": "code",
   "execution_count": null,
   "metadata": {},
   "outputs": [],
   "source": []
  }
 ],
 "metadata": {
  "kernelspec": {
   "display_name": "Python 3",
   "language": "python",
   "name": "python3"
  },
  "language_info": {
   "codemirror_mode": {
    "name": "ipython",
    "version": 3
   },
   "file_extension": ".py",
   "mimetype": "text/x-python",
   "name": "python",
   "nbconvert_exporter": "python",
   "pygments_lexer": "ipython3",
   "version": "3.6.4"
  }
 },
 "nbformat": 4,
 "nbformat_minor": 2
}
